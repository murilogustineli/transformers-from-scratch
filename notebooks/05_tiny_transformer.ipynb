{
 "cells": [
  {
   "cell_type": "markdown",
   "id": "46c3528c",
   "metadata": {},
   "source": [
    "# Tiny Transformer"
   ]
  },
  {
   "cell_type": "markdown",
   "id": "6b1bbfa1",
   "metadata": {},
   "source": []
  }
 ],
 "metadata": {
  "language_info": {
   "name": "python"
  }
 },
 "nbformat": 4,
 "nbformat_minor": 5
}
