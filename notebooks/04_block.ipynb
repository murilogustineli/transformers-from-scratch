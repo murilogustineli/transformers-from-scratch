{
 "cells": [
  {
   "cell_type": "markdown",
   "id": "33c2b9b1",
   "metadata": {},
   "source": [
    "# Transformer Block"
   ]
  },
  {
   "cell_type": "markdown",
   "id": "d7d331b1",
   "metadata": {},
   "source": []
  }
 ],
 "metadata": {
  "language_info": {
   "name": "python"
  }
 },
 "nbformat": 4,
 "nbformat_minor": 5
}
