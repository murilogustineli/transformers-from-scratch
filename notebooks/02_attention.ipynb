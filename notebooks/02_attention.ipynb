{
 "cells": [
  {
   "cell_type": "markdown",
   "id": "3874f188",
   "metadata": {},
   "source": [
    "# Attention"
   ]
  },
  {
   "cell_type": "markdown",
   "id": "c10edfe0",
   "metadata": {},
   "source": []
  }
 ],
 "metadata": {
  "language_info": {
   "name": "python"
  }
 },
 "nbformat": 4,
 "nbformat_minor": 5
}
