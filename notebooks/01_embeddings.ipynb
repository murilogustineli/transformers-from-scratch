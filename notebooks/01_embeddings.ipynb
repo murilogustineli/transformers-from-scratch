{
 "cells": [
  {
   "cell_type": "markdown",
   "id": "8678259c",
   "metadata": {},
   "source": [
    "# Embeddings"
   ]
  },
  {
   "cell_type": "markdown",
   "id": "31af63d7",
   "metadata": {},
   "source": []
  }
 ],
 "metadata": {
  "language_info": {
   "name": "python"
  }
 },
 "nbformat": 4,
 "nbformat_minor": 5
}
