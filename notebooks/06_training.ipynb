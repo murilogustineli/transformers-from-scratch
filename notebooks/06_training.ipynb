{
 "cells": [
  {
   "cell_type": "markdown",
   "id": "bc7dfa60",
   "metadata": {},
   "source": [
    "# Training"
   ]
  },
  {
   "cell_type": "markdown",
   "id": "899c4a03",
   "metadata": {},
   "source": []
  }
 ],
 "metadata": {
  "language_info": {
   "name": "python"
  }
 },
 "nbformat": 4,
 "nbformat_minor": 5
}
