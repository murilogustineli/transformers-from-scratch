{
 "cells": [
  {
   "cell_type": "markdown",
   "id": "78c5fa3f",
   "metadata": {},
   "source": [
    "# Transformers from Scratch"
   ]
  },
  {
   "cell_type": "code",
   "execution_count": 1,
   "id": "9674fb61",
   "metadata": {},
   "outputs": [
    {
     "name": "stdout",
     "output_type": "stream",
     "text": [
      "scores shape: torch.Size([3, 3])\n",
      "tensor([[0.7071, 0.7071, 0.0000],\n",
      "        [0.0000, 0.7071, 0.7071],\n",
      "        [0.7071, 1.4142, 0.7071]])\n",
      "\n",
      "attn_weights shape: torch.Size([3, 3])\n",
      "tensor([[0.4011, 0.4011, 0.1978],\n",
      "        [0.1978, 0.4011, 0.4011],\n",
      "        [0.2483, 0.5035, 0.2483]])\n",
      "\n",
      "attn_output shape: torch.Size([3, 2])\n",
      "tensor([[0.5989, 1.0000],\n",
      "        [0.5989, 1.2033],\n",
      "        [0.4965, 1.2552]])\n"
     ]
    }
   ],
   "source": [
    "import torch\n",
    "import torch.nn.functional as F\n",
    "\n",
    "# 3 tokens, head_dim = 2 tensors\n",
    "Q = torch.tensor([[1.0, 0.0], [0.0, 1.0], [1.0, 1.0]])\n",
    "K = torch.tensor([[1.0, 0.0], [1.0, 1.0], [0.0, 1.0]])\n",
    "V = torch.tensor([[1.0, 0.0], [0.0, 2.0], [1.0, 1.0]])\n",
    "L, d_h = Q.shape  # L=3, d_h=2\n",
    "\n",
    "# attention scores\n",
    "scores = (Q @ K.T) / (d_h**0.5)\n",
    "print(f\"scores shape: {scores.shape}\")\n",
    "print(scores)\n",
    "\n",
    "# attention weights: softmax over keys dimension\n",
    "attn_weights = F.softmax(scores, dim=-1)  # [L, L]\n",
    "print(f\"\\nattn_weights shape: {attn_weights.shape}\")\n",
    "print(attn_weights)\n",
    "\n",
    "# output: [L, d_h]\n",
    "attn_output = attn_weights @ V\n",
    "print(f\"\\nattn_output shape: {attn_output.shape}\")\n",
    "print(attn_output)"
   ]
  },
  {
   "cell_type": "code",
   "execution_count": null,
   "id": "f31855c8",
   "metadata": {},
   "outputs": [],
   "source": []
  }
 ],
 "metadata": {
  "kernelspec": {
   "display_name": ".venv (3.11.6)",
   "language": "python",
   "name": "python3"
  },
  "language_info": {
   "codemirror_mode": {
    "name": "ipython",
    "version": 3
   },
   "file_extension": ".py",
   "mimetype": "text/x-python",
   "name": "python",
   "nbconvert_exporter": "python",
   "pygments_lexer": "ipython3",
   "version": "3.11.6"
  }
 },
 "nbformat": 4,
 "nbformat_minor": 5
}
